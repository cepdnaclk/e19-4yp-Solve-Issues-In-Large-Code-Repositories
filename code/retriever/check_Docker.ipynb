{
 "cells": [
  {
   "cell_type": "code",
   "execution_count": 1,
   "metadata": {},
   "outputs": [],
   "source": [
    "\n",
    "from sandbox.specs import (\n",
    "    MAP_REPO_TO_REQS_PATHS,\n",
    "    MAP_REPO_VERSION_TO_SPECS_PY,\n",
    ")\n",
    "from sandbox import bash_session, docker_build"
   ]
  },
  {
   "cell_type": "code",
   "execution_count": 2,
   "metadata": {},
   "outputs": [
    {
     "name": "stderr",
     "output_type": "stream",
     "text": [
      "/home/lahiru-menik/miniconda3/envs/agentless/lib/python3.11/site-packages/tqdm/auto.py:21: TqdmWarning: IProgress not found. Please update jupyter and ipywidgets. See https://ipywidgets.readthedocs.io/en/stable/user_install.html\n",
      "  from .autonotebook import tqdm as notebook_tqdm\n"
     ]
    }
   ],
   "source": [
    "from datasets import load_dataset\n",
    "\n",
    "dataset = load_dataset(\"lahirum/SWE_Experimental\", split=\"train\")"
   ]
  },
  {
   "cell_type": "code",
   "execution_count": 3,
   "metadata": {},
   "outputs": [
    {
     "data": {
      "text/plain": [
       "{'python': '3.9',\n",
       " 'packages': 'requirements.txt',\n",
       " 'install': 'python -m pip install -e .',\n",
       " 'test_cmd': './tests/runtests.py --verbosity 2 --settings=test_sqlite --parallel 1'}"
      ]
     },
     "execution_count": 3,
     "metadata": {},
     "output_type": "execute_result"
    }
   ],
   "source": [
    "MAP_REPO_VERSION_TO_SPECS_PY[dataset[0]['repo']][dataset[0]['version']]"
   ]
  },
  {
   "cell_type": "code",
   "execution_count": 4,
   "metadata": {},
   "outputs": [],
   "source": [
    "import docker\n",
    "\n",
    "def image_exists(name):\n",
    "    # client = docker.from_env()\n",
    "    client = docker.DockerClient(base_url='unix:///home/lahiru-menik/.docker/desktop/docker.sock')\n",
    "    # print(client.images.list(), \"lll\")\n",
    "    try:\n",
    "        client.images.get(name)\n",
    "        return True\n",
    "    except docker.errors.ImageNotFound:\n",
    "        return False\n",
    "    except docker.errors.APIError as e:\n",
    "        print(f\"Docker API error: {e}\")\n",
    "        return False"
   ]
  },
  {
   "cell_type": "code",
   "execution_count": 5,
   "metadata": {},
   "outputs": [
    {
     "name": "stdout",
     "output_type": "stream",
     "text": [
      "True\n"
     ]
    }
   ],
   "source": [
    "print(image_exists(\"django_4.1\"))"
   ]
  },
  {
   "cell_type": "code",
   "execution_count": 6,
   "metadata": {},
   "outputs": [
    {
     "name": "stdout",
     "output_type": "stream",
     "text": [
      "True\n"
     ]
    }
   ],
   "source": [
    "print(image_exists(\"swe_py_3.9\"))"
   ]
  },
  {
   "cell_type": "code",
   "execution_count": 7,
   "metadata": {},
   "outputs": [
    {
     "name": "stdout",
     "output_type": "stream",
     "text": [
      "[<Image: 'django_5.0:latest'>, <Image: 'swe_py_3.11:latest'>, <Image: 'django_4.1:latest'>, <Image: 'swe_py_3.9:latest', 'swe_py_4.1:latest'>, <Image: 'py_3.10:latest'>, <Image: 'swe-ubuntu-base:latest'>, <Image: 'hello-world:latest'>]\n"
     ]
    }
   ],
   "source": [
    "\n",
    "client = docker.DockerClient(base_url='unix:///home/lahiru-menik/.docker/desktop/docker.sock')\n",
    "images = client.images.list()\n",
    "print(images)"
   ]
  },
  {
   "cell_type": "code",
   "execution_count": 8,
   "metadata": {},
   "outputs": [
    {
     "name": "stdout",
     "output_type": "stream",
     "text": [
      "=== Docker SDK sees the following images ===\n",
      "sha256:74cc54e27dc41bb10dc4b2226072d469509f2f22f1a3ce74f4a59661a1d44602\n",
      "Tags: ['hello-world:latest']\n",
      "-----\n"
     ]
    }
   ],
   "source": [
    "import docker\n",
    "\n",
    "client = docker.from_env()\n",
    "images = client.images.list()\n",
    "\n",
    "print(\"=== Docker SDK sees the following images ===\")\n",
    "for image in images:\n",
    "    print(image.id)\n",
    "    print(\"Tags:\", image.tags)\n",
    "    print(\"-----\")"
   ]
  },
  {
   "cell_type": "code",
   "execution_count": 9,
   "metadata": {},
   "outputs": [
    {
     "name": "stdout",
     "output_type": "stream",
     "text": [
      "Docker SDK connected to: http+docker://localhost\n"
     ]
    }
   ],
   "source": [
    "import docker\n",
    "client = docker.from_env()\n",
    "print(\"Docker SDK connected to:\", client.api.base_url)\n"
   ]
  },
  {
   "cell_type": "code",
   "execution_count": 10,
   "metadata": {},
   "outputs": [
    {
     "name": "stdout",
     "output_type": "stream",
     "text": [
      "['test_args_kwargs_signature (migrations.test_writer.OperationWriterTests.test_args_kwargs_signature)', 'test_args_signature (migrations.test_writer.OperationWriterTests.test_args_signature)', 'test_empty_signature (migrations.test_writer.OperationWriterTests.test_empty_signature)', 'test_expand_args_signature (migrations.test_writer.OperationWriterTests.test_expand_args_signature)', 'test_kwargs_signature (migrations.test_writer.OperationWriterTests.test_kwargs_signature)', 'test_multiline_args_signature (migrations.test_writer.OperationWriterTests.test_multiline_args_signature)', 'test_nested_args_signature (migrations.test_writer.OperationWriterTests.test_nested_args_signature)', 'test_nested_operation_expand_args_signature (migrations.test_writer.OperationWriterTests.test_nested_operation_expand_args_signature)', 'test_custom_operation (migrations.test_writer.WriterTests.test_custom_operation)', 'test_deconstruct_class_arguments (migrations.test_writer.WriterTests.test_deconstruct_class_arguments)', 'Test comments at top of file.', 'test_migration_path (migrations.test_writer.WriterTests.test_migration_path)', \"django.db.models shouldn't be imported if unused.\", 'test_register_non_serializer (migrations.test_writer.WriterTests.test_register_non_serializer)', 'test_register_serializer (migrations.test_writer.WriterTests.test_register_serializer)', 'test_serialize_builtin_types (migrations.test_writer.WriterTests.test_serialize_builtin_types)', 'test_serialize_builtins (migrations.test_writer.WriterTests.test_serialize_builtins)', 'test_serialize_choices (migrations.test_writer.WriterTests.test_serialize_choices)', 'Ticket #22943: Test serialization of class-based validators, including', 'test_serialize_collections (migrations.test_writer.WriterTests.test_serialize_collections)', 'Make sure compiled regex can be serialized.', 'test_serialize_complex_func_index (migrations.test_writer.WriterTests.test_serialize_complex_func_index)', 'test_serialize_constants (migrations.test_writer.WriterTests.test_serialize_constants)', 'test_serialize_datetime (migrations.test_writer.WriterTests.test_serialize_datetime)', 'Ticket #22679: makemigrations generates invalid code for (an empty', 'test_serialize_enum_flags (migrations.test_writer.WriterTests.test_serialize_enum_flags)', 'test_serialize_enums (migrations.test_writer.WriterTests.test_serialize_enums)', 'test_serialize_fields (migrations.test_writer.WriterTests.test_serialize_fields)', 'test_serialize_frozensets (migrations.test_writer.WriterTests.test_serialize_frozensets)', 'test_serialize_functions (migrations.test_writer.WriterTests.test_serialize_functions)', 'test_serialize_functools_partial (migrations.test_writer.WriterTests.test_serialize_functools_partial)', 'test_serialize_functools_partialmethod (migrations.test_writer.WriterTests.test_serialize_functools_partialmethod)', 'test_serialize_iterators (migrations.test_writer.WriterTests.test_serialize_iterators)', 'test_serialize_lazy_objects (migrations.test_writer.WriterTests.test_serialize_lazy_objects)', \"A reference in a local scope can't be serialized.\", 'test_serialize_managers (migrations.test_writer.WriterTests.test_serialize_managers)', 'test_serialize_multiline_strings (migrations.test_writer.WriterTests.test_serialize_multiline_strings)', 'test_serialize_nested_class (migrations.test_writer.WriterTests.test_serialize_nested_class)', 'test_serialize_numbers (migrations.test_writer.WriterTests.test_serialize_numbers)', 'test_serialize_path_like (migrations.test_writer.WriterTests.test_serialize_path_like)', 'test_serialize_pathlib (migrations.test_writer.WriterTests.test_serialize_pathlib)', 'test_serialize_range (migrations.test_writer.WriterTests.test_serialize_range)', 'test_serialize_set (migrations.test_writer.WriterTests.test_serialize_set)', 'test_serialize_settings (migrations.test_writer.WriterTests.test_serialize_settings)', 'test_serialize_strings (migrations.test_writer.WriterTests.test_serialize_strings)', 'test_serialize_timedelta (migrations.test_writer.WriterTests.test_serialize_timedelta)', 'test_serialize_type_model (migrations.test_writer.WriterTests.test_serialize_type_model)', 'test_serialize_type_none (migrations.test_writer.WriterTests.test_serialize_type_none)', 'An unbound method used within a class body can be serialized.', 'test_serialize_uuid (migrations.test_writer.WriterTests.test_serialize_uuid)', 'Tests serializing a simple migration.', 'test_sorted_dependencies (migrations.test_writer.WriterTests.test_sorted_dependencies)', '#24155 - Tests ordering of imports.']\n",
      "<class 'list'>\n"
     ]
    }
   ],
   "source": [
    "import ast\n",
    "\n",
    "# Suppose this is your string (from dataset[0]['FAIL_TO_PASS'])\n",
    "fail_to_passs = \"\"\"[\"test_args_kwargs_signature (migrations.test_writer.OperationWriterTests.test_args_kwargs_signature)\", \"test_args_signature (migrations.test_writer.OperationWriterTests.test_args_signature)\", \"test_empty_signature (migrations.test_writer.OperationWriterTests.test_empty_signature)\", \"test_expand_args_signature (migrations.test_writer.OperationWriterTests.test_expand_args_signature)\", \"test_kwargs_signature (migrations.test_writer.OperationWriterTests.test_kwargs_signature)\", \"test_multiline_args_signature (migrations.test_writer.OperationWriterTests.test_multiline_args_signature)\", \"test_nested_args_signature (migrations.test_writer.OperationWriterTests.test_nested_args_signature)\", \"test_nested_operation_expand_args_signature (migrations.test_writer.OperationWriterTests.test_nested_operation_expand_args_signature)\", \"test_custom_operation (migrations.test_writer.WriterTests.test_custom_operation)\", \"test_deconstruct_class_arguments (migrations.test_writer.WriterTests.test_deconstruct_class_arguments)\", \"Test comments at top of file.\", \"test_migration_path (migrations.test_writer.WriterTests.test_migration_path)\", \"django.db.models shouldn't be imported if unused.\", \"test_register_non_serializer (migrations.test_writer.WriterTests.test_register_non_serializer)\", \"test_register_serializer (migrations.test_writer.WriterTests.test_register_serializer)\", \"test_serialize_builtin_types (migrations.test_writer.WriterTests.test_serialize_builtin_types)\", \"test_serialize_builtins (migrations.test_writer.WriterTests.test_serialize_builtins)\", \"test_serialize_choices (migrations.test_writer.WriterTests.test_serialize_choices)\", \"Ticket #22943: Test serialization of class-based validators, including\", \"test_serialize_collections (migrations.test_writer.WriterTests.test_serialize_collections)\", \"Make sure compiled regex can be serialized.\", \"test_serialize_complex_func_index (migrations.test_writer.WriterTests.test_serialize_complex_func_index)\", \"test_serialize_constants (migrations.test_writer.WriterTests.test_serialize_constants)\", \"test_serialize_datetime (migrations.test_writer.WriterTests.test_serialize_datetime)\", \"Ticket #22679: makemigrations generates invalid code for (an empty\", \"test_serialize_enum_flags (migrations.test_writer.WriterTests.test_serialize_enum_flags)\", \"test_serialize_enums (migrations.test_writer.WriterTests.test_serialize_enums)\", \"test_serialize_fields (migrations.test_writer.WriterTests.test_serialize_fields)\", \"test_serialize_frozensets (migrations.test_writer.WriterTests.test_serialize_frozensets)\", \"test_serialize_functions (migrations.test_writer.WriterTests.test_serialize_functions)\", \"test_serialize_functools_partial (migrations.test_writer.WriterTests.test_serialize_functools_partial)\", \"test_serialize_functools_partialmethod (migrations.test_writer.WriterTests.test_serialize_functools_partialmethod)\", \"test_serialize_iterators (migrations.test_writer.WriterTests.test_serialize_iterators)\", \"test_serialize_lazy_objects (migrations.test_writer.WriterTests.test_serialize_lazy_objects)\", \"A reference in a local scope can't be serialized.\", \"test_serialize_managers (migrations.test_writer.WriterTests.test_serialize_managers)\", \"test_serialize_multiline_strings (migrations.test_writer.WriterTests.test_serialize_multiline_strings)\", \"test_serialize_nested_class (migrations.test_writer.WriterTests.test_serialize_nested_class)\", \"test_serialize_numbers (migrations.test_writer.WriterTests.test_serialize_numbers)\", \"test_serialize_path_like (migrations.test_writer.WriterTests.test_serialize_path_like)\", \"test_serialize_pathlib (migrations.test_writer.WriterTests.test_serialize_pathlib)\", \"test_serialize_range (migrations.test_writer.WriterTests.test_serialize_range)\", \"test_serialize_set (migrations.test_writer.WriterTests.test_serialize_set)\", \"test_serialize_settings (migrations.test_writer.WriterTests.test_serialize_settings)\", \"test_serialize_strings (migrations.test_writer.WriterTests.test_serialize_strings)\", \"test_serialize_timedelta (migrations.test_writer.WriterTests.test_serialize_timedelta)\", \"test_serialize_type_model (migrations.test_writer.WriterTests.test_serialize_type_model)\", \"test_serialize_type_none (migrations.test_writer.WriterTests.test_serialize_type_none)\", \"An unbound method used within a class body can be serialized.\", \"test_serialize_uuid (migrations.test_writer.WriterTests.test_serialize_uuid)\", \"Tests serializing a simple migration.\", \"test_sorted_dependencies (migrations.test_writer.WriterTests.test_sorted_dependencies)\", \"#24155 - Tests ordering of imports.\"]\"\"\"\n",
    "# Convert the string to a real list\n",
    "fail_list = ast.literal_eval(fail_to_passs)\n",
    "\n",
    "print(fail_list)\n",
    "print(type(fail_list))  # should show <class 'list'>\n"
   ]
  },
  {
   "cell_type": "code",
   "execution_count": 11,
   "metadata": {},
   "outputs": [
    {
     "name": "stdout",
     "output_type": "stream",
     "text": [
      "[\"test_args_kwargs_signature (migrations.test_writer.OperationWriterTests.test_args_kwargs_signature)\", \"test_args_signature (migrations.test_writer.OperationWriterTests.test_args_signature)\", \"test_empty_signature (migrations.test_writer.OperationWriterTests.test_empty_signature)\", \"test_expand_args_signature (migrations.test_writer.OperationWriterTests.test_expand_args_signature)\", \"test_kwargs_signature (migrations.test_writer.OperationWriterTests.test_kwargs_signature)\", \"test_multiline_args_signature (migrations.test_writer.OperationWriterTests.test_multiline_args_signature)\", \"test_nested_args_signature (migrations.test_writer.OperationWriterTests.test_nested_args_signature)\", \"test_nested_operation_expand_args_signature (migrations.test_writer.OperationWriterTests.test_nested_operation_expand_args_signature)\", \"test_custom_operation (migrations.test_writer.WriterTests.test_custom_operation)\", \"test_deconstruct_class_arguments (migrations.test_writer.WriterTests.test_deconstruct_class_arguments)\", \"Test comments at top of file.\", \"test_migration_path (migrations.test_writer.WriterTests.test_migration_path)\", \"django.db.models shouldn't be imported if unused.\", \"test_register_non_serializer (migrations.test_writer.WriterTests.test_register_non_serializer)\", \"test_register_serializer (migrations.test_writer.WriterTests.test_register_serializer)\", \"test_serialize_builtin_types (migrations.test_writer.WriterTests.test_serialize_builtin_types)\", \"test_serialize_builtins (migrations.test_writer.WriterTests.test_serialize_builtins)\", \"test_serialize_choices (migrations.test_writer.WriterTests.test_serialize_choices)\", \"Ticket #22943: Test serialization of class-based validators, including\", \"test_serialize_collections (migrations.test_writer.WriterTests.test_serialize_collections)\", \"Make sure compiled regex can be serialized.\", \"test_serialize_complex_func_index (migrations.test_writer.WriterTests.test_serialize_complex_func_index)\", \"test_serialize_constants (migrations.test_writer.WriterTests.test_serialize_constants)\", \"test_serialize_datetime (migrations.test_writer.WriterTests.test_serialize_datetime)\", \"Ticket #22679: makemigrations generates invalid code for (an empty\", \"test_serialize_enum_flags (migrations.test_writer.WriterTests.test_serialize_enum_flags)\", \"test_serialize_enums (migrations.test_writer.WriterTests.test_serialize_enums)\", \"test_serialize_fields (migrations.test_writer.WriterTests.test_serialize_fields)\", \"test_serialize_frozensets (migrations.test_writer.WriterTests.test_serialize_frozensets)\", \"test_serialize_functions (migrations.test_writer.WriterTests.test_serialize_functions)\", \"test_serialize_functools_partial (migrations.test_writer.WriterTests.test_serialize_functools_partial)\", \"test_serialize_functools_partialmethod (migrations.test_writer.WriterTests.test_serialize_functools_partialmethod)\", \"test_serialize_iterators (migrations.test_writer.WriterTests.test_serialize_iterators)\", \"test_serialize_lazy_objects (migrations.test_writer.WriterTests.test_serialize_lazy_objects)\", \"A reference in a local scope can't be serialized.\", \"test_serialize_managers (migrations.test_writer.WriterTests.test_serialize_managers)\", \"test_serialize_multiline_strings (migrations.test_writer.WriterTests.test_serialize_multiline_strings)\", \"test_serialize_nested_class (migrations.test_writer.WriterTests.test_serialize_nested_class)\", \"test_serialize_numbers (migrations.test_writer.WriterTests.test_serialize_numbers)\", \"test_serialize_path_like (migrations.test_writer.WriterTests.test_serialize_path_like)\", \"test_serialize_pathlib (migrations.test_writer.WriterTests.test_serialize_pathlib)\", \"test_serialize_range (migrations.test_writer.WriterTests.test_serialize_range)\", \"test_serialize_set (migrations.test_writer.WriterTests.test_serialize_set)\", \"test_serialize_settings (migrations.test_writer.WriterTests.test_serialize_settings)\", \"test_serialize_strings (migrations.test_writer.WriterTests.test_serialize_strings)\", \"test_serialize_timedelta (migrations.test_writer.WriterTests.test_serialize_timedelta)\", \"test_serialize_type_model (migrations.test_writer.WriterTests.test_serialize_type_model)\", \"test_serialize_type_none (migrations.test_writer.WriterTests.test_serialize_type_none)\", \"An unbound method used within a class body can be serialized.\", \"test_serialize_uuid (migrations.test_writer.WriterTests.test_serialize_uuid)\", \"Tests serializing a simple migration.\", \"test_sorted_dependencies (migrations.test_writer.WriterTests.test_sorted_dependencies)\", \"#24155 - Tests ordering of imports.\"]\n",
      "['test_args_kwargs_signature (migrations.test_writer.OperationWriterTests.test_args_kwargs_signature)', 'test_args_signature (migrations.test_writer.OperationWriterTests.test_args_signature)', 'test_empty_signature (migrations.test_writer.OperationWriterTests.test_empty_signature)', 'test_expand_args_signature (migrations.test_writer.OperationWriterTests.test_expand_args_signature)', 'test_kwargs_signature (migrations.test_writer.OperationWriterTests.test_kwargs_signature)', 'test_multiline_args_signature (migrations.test_writer.OperationWriterTests.test_multiline_args_signature)', 'test_nested_args_signature (migrations.test_writer.OperationWriterTests.test_nested_args_signature)', 'test_nested_operation_expand_args_signature (migrations.test_writer.OperationWriterTests.test_nested_operation_expand_args_signature)', 'test_custom_operation (migrations.test_writer.WriterTests.test_custom_operation)', 'test_deconstruct_class_arguments (migrations.test_writer.WriterTests.test_deconstruct_class_arguments)', 'Test comments at top of file.', 'test_migration_path (migrations.test_writer.WriterTests.test_migration_path)', \"django.db.models shouldn't be imported if unused.\", 'test_register_non_serializer (migrations.test_writer.WriterTests.test_register_non_serializer)', 'test_register_serializer (migrations.test_writer.WriterTests.test_register_serializer)', 'test_serialize_builtin_types (migrations.test_writer.WriterTests.test_serialize_builtin_types)', 'test_serialize_builtins (migrations.test_writer.WriterTests.test_serialize_builtins)', 'test_serialize_choices (migrations.test_writer.WriterTests.test_serialize_choices)', 'Ticket #22943: Test serialization of class-based validators, including', 'test_serialize_collections (migrations.test_writer.WriterTests.test_serialize_collections)', 'Make sure compiled regex can be serialized.', 'test_serialize_complex_func_index (migrations.test_writer.WriterTests.test_serialize_complex_func_index)', 'test_serialize_constants (migrations.test_writer.WriterTests.test_serialize_constants)', 'test_serialize_datetime (migrations.test_writer.WriterTests.test_serialize_datetime)', 'Ticket #22679: makemigrations generates invalid code for (an empty', 'test_serialize_enum_flags (migrations.test_writer.WriterTests.test_serialize_enum_flags)', 'test_serialize_enums (migrations.test_writer.WriterTests.test_serialize_enums)', 'test_serialize_fields (migrations.test_writer.WriterTests.test_serialize_fields)', 'test_serialize_frozensets (migrations.test_writer.WriterTests.test_serialize_frozensets)', 'test_serialize_functions (migrations.test_writer.WriterTests.test_serialize_functions)', 'test_serialize_functools_partial (migrations.test_writer.WriterTests.test_serialize_functools_partial)', 'test_serialize_functools_partialmethod (migrations.test_writer.WriterTests.test_serialize_functools_partialmethod)', 'test_serialize_iterators (migrations.test_writer.WriterTests.test_serialize_iterators)', 'test_serialize_lazy_objects (migrations.test_writer.WriterTests.test_serialize_lazy_objects)', \"A reference in a local scope can't be serialized.\", 'test_serialize_managers (migrations.test_writer.WriterTests.test_serialize_managers)', 'test_serialize_multiline_strings (migrations.test_writer.WriterTests.test_serialize_multiline_strings)', 'test_serialize_nested_class (migrations.test_writer.WriterTests.test_serialize_nested_class)', 'test_serialize_numbers (migrations.test_writer.WriterTests.test_serialize_numbers)', 'test_serialize_path_like (migrations.test_writer.WriterTests.test_serialize_path_like)', 'test_serialize_pathlib (migrations.test_writer.WriterTests.test_serialize_pathlib)', 'test_serialize_range (migrations.test_writer.WriterTests.test_serialize_range)', 'test_serialize_set (migrations.test_writer.WriterTests.test_serialize_set)', 'test_serialize_settings (migrations.test_writer.WriterTests.test_serialize_settings)', 'test_serialize_strings (migrations.test_writer.WriterTests.test_serialize_strings)', 'test_serialize_timedelta (migrations.test_writer.WriterTests.test_serialize_timedelta)', 'test_serialize_type_model (migrations.test_writer.WriterTests.test_serialize_type_model)', 'test_serialize_type_none (migrations.test_writer.WriterTests.test_serialize_type_none)', 'An unbound method used within a class body can be serialized.', 'test_serialize_uuid (migrations.test_writer.WriterTests.test_serialize_uuid)', 'Tests serializing a simple migration.', 'test_sorted_dependencies (migrations.test_writer.WriterTests.test_sorted_dependencies)', '#24155 - Tests ordering of imports.']\n"
     ]
    },
    {
     "ename": "AttributeError",
     "evalue": "'NoneType' object has no attribute 'group'",
     "output_type": "error",
     "traceback": [
      "\u001b[0;31m---------------------------------------------------------------------------\u001b[0m",
      "\u001b[0;31mAttributeError\u001b[0m                            Traceback (most recent call last)",
      "Cell \u001b[0;32mIn[11], line 9\u001b[0m\n\u001b[1;32m      5\u001b[0m fail_to_passs \u001b[38;5;241m=\u001b[39m ast\u001b[38;5;241m.\u001b[39mliteral_eval(fail_to_passs)\n\u001b[1;32m      6\u001b[0m \u001b[38;5;28mprint\u001b[39m(fail_to_passs)\n\u001b[0;32m----> 9\u001b[0m fail_to_passs\u001b[38;5;241m=\u001b[39m \u001b[43m{\u001b[49m\n\u001b[1;32m     10\u001b[0m \u001b[43m    \u001b[49m\u001b[43mre\u001b[49m\u001b[38;5;241;43m.\u001b[39;49m\u001b[43msub\u001b[49m\u001b[43m(\u001b[49m\u001b[38;5;124;43mr\u001b[39;49m\u001b[38;5;124;43m'\u001b[39;49m\u001b[38;5;124;43m\\\u001b[39;49m\u001b[38;5;124;43ms*\u001b[39;49m\u001b[38;5;124;43m\\\u001b[39;49m\u001b[38;5;124;43m(.*\u001b[39;49m\u001b[38;5;124;43m\\\u001b[39;49m\u001b[38;5;124;43m)\u001b[39;49m\u001b[38;5;124;43m'\u001b[39;49m\u001b[43m,\u001b[49m\u001b[43m \u001b[49m\u001b[38;5;124;43m'\u001b[39;49m\u001b[38;5;124;43m'\u001b[39;49m\u001b[43m,\u001b[49m\u001b[43m \u001b[49m\u001b[43mitem\u001b[49m\u001b[43m)\u001b[49m\u001b[43m:\u001b[49m\u001b[43m \u001b[49m\u001b[43mre\u001b[49m\u001b[38;5;241;43m.\u001b[39;49m\u001b[43msearch\u001b[49m\u001b[43m(\u001b[49m\u001b[38;5;124;43mr\u001b[39;49m\u001b[38;5;124;43m'\u001b[39;49m\u001b[38;5;124;43m\\\u001b[39;49m\u001b[38;5;124;43m((.*?)\u001b[39;49m\u001b[38;5;124;43m\\\u001b[39;49m\u001b[38;5;124;43m)\u001b[39;49m\u001b[38;5;124;43m'\u001b[39;49m\u001b[43m,\u001b[49m\u001b[43m \u001b[49m\u001b[43mitem\u001b[49m\u001b[43m)\u001b[49m\u001b[38;5;241;43m.\u001b[39;49m\u001b[43mgroup\u001b[49m\u001b[43m(\u001b[49m\u001b[38;5;241;43m1\u001b[39;49m\u001b[43m)\u001b[49m\n\u001b[1;32m     11\u001b[0m \u001b[43m    \u001b[49m\u001b[38;5;28;43;01mfor\u001b[39;49;00m\u001b[43m \u001b[49m\u001b[43mitem\u001b[49m\u001b[43m \u001b[49m\u001b[38;5;129;43;01min\u001b[39;49;00m\u001b[43m \u001b[49m\u001b[43mfail_to_passs\u001b[49m\n\u001b[1;32m     12\u001b[0m \u001b[43m}\u001b[49m\n\u001b[1;32m     14\u001b[0m \u001b[38;5;28mprint\u001b[39m(fail_to_passs)\n",
      "Cell \u001b[0;32mIn[11], line 10\u001b[0m, in \u001b[0;36m<dictcomp>\u001b[0;34m(.0)\u001b[0m\n\u001b[1;32m      5\u001b[0m fail_to_passs \u001b[38;5;241m=\u001b[39m ast\u001b[38;5;241m.\u001b[39mliteral_eval(fail_to_passs)\n\u001b[1;32m      6\u001b[0m \u001b[38;5;28mprint\u001b[39m(fail_to_passs)\n\u001b[1;32m      9\u001b[0m fail_to_passs\u001b[38;5;241m=\u001b[39m {\n\u001b[0;32m---> 10\u001b[0m     re\u001b[38;5;241m.\u001b[39msub(\u001b[38;5;124mr\u001b[39m\u001b[38;5;124m'\u001b[39m\u001b[38;5;124m\\\u001b[39m\u001b[38;5;124ms*\u001b[39m\u001b[38;5;124m\\\u001b[39m\u001b[38;5;124m(.*\u001b[39m\u001b[38;5;124m\\\u001b[39m\u001b[38;5;124m)\u001b[39m\u001b[38;5;124m'\u001b[39m, \u001b[38;5;124m'\u001b[39m\u001b[38;5;124m'\u001b[39m, item): \u001b[43mre\u001b[49m\u001b[38;5;241;43m.\u001b[39;49m\u001b[43msearch\u001b[49m\u001b[43m(\u001b[49m\u001b[38;5;124;43mr\u001b[39;49m\u001b[38;5;124;43m'\u001b[39;49m\u001b[38;5;124;43m\\\u001b[39;49m\u001b[38;5;124;43m((.*?)\u001b[39;49m\u001b[38;5;124;43m\\\u001b[39;49m\u001b[38;5;124;43m)\u001b[39;49m\u001b[38;5;124;43m'\u001b[39;49m\u001b[43m,\u001b[49m\u001b[43m \u001b[49m\u001b[43mitem\u001b[49m\u001b[43m)\u001b[49m\u001b[38;5;241;43m.\u001b[39;49m\u001b[43mgroup\u001b[49m(\u001b[38;5;241m1\u001b[39m)\n\u001b[1;32m     11\u001b[0m     \u001b[38;5;28;01mfor\u001b[39;00m item \u001b[38;5;129;01min\u001b[39;00m fail_to_passs\n\u001b[1;32m     12\u001b[0m }\n\u001b[1;32m     14\u001b[0m \u001b[38;5;28mprint\u001b[39m(fail_to_passs)\n",
      "\u001b[0;31mAttributeError\u001b[0m: 'NoneType' object has no attribute 'group'"
     ]
    }
   ],
   "source": [
    "import re\n",
    "import ast\n",
    "fail_to_passs = dataset[1]['PASS_TO_PASS']\n",
    "print(fail_to_passs)\n",
    "fail_to_passs = ast.literal_eval(fail_to_passs)\n",
    "print(fail_to_passs)\n",
    "\n",
    "\n",
    "fail_to_passs= {\n",
    "    re.sub(r'\\s*\\(.*\\)', '', item): re.search(r'\\((.*?)\\)', item).group(1)\n",
    "    for item in fail_to_passs\n",
    "}\n",
    "\n",
    "print(fail_to_passs)\n"
   ]
  },
  {
   "cell_type": "code",
   "execution_count": 12,
   "metadata": {},
   "outputs": [],
   "source": [
    "repo = dataset[0]['repo']\n",
    "version = dataset[0]['version']\n",
    "test_cmd = MAP_REPO_VERSION_TO_SPECS_PY[repo][version][\"test_cmd\"]\n",
    "if isinstance(test_cmd, list):\n",
    "    print(\"Test command is a list:\", test_cmd)"
   ]
  },
  {
   "cell_type": "code",
   "execution_count": 13,
   "metadata": {},
   "outputs": [
    {
     "name": "stdout",
     "output_type": "stream",
     "text": [
      "HEAD is now at 4a72da7100 Refs #27471 -- Made admin's filter choice arrows use cursor pointers.\n",
      "deeleted\n",
      "version_exist_check: True\n",
      "Running test: migrations.test_writer.WriterTests.test_serialize_nested_class_method\n",
      "_nested_class_methodparallel 1 migrations.test_writer.WriterTests.test_serialize_\n",
      "Testing against Django installed in '/testbed/django'\n",
      "Importing application migrations\n",
      "Found 1 test(s).\n",
      "Skipping setup of unused database(s): default, other.\n",
      "System check identified no issues (0 silenced).\n",
      "test_serialize_nested_class_method (unittest.loader._FailedTest.test_serialize_nested_class_method) ... ERROR\n",
      "\n",
      "======================================================================\n",
      "ERROR: test_serialize_nested_class_method (unittest.loader._FailedTest.test_serialize_nested_class_method)\n",
      "----------------------------------------------------------------------\n",
      "AttributeError: type object 'WriterTests' has no attribute 'test_serialize_nested_class_method'\n",
      "\n",
      "----------------------------------------------------------------------\n",
      "Ran 1 test in 0.000s\n",
      "\n",
      "FAILED (errors=1)\n",
      "\u001b[?2004h(py_3.11) \u001b]0;sandbox@2f2961b7cd94: /testbed\u0007sandbox@2f2961b7cd94:/testbed\n"
     ]
    }
   ],
   "source": [
    "from commit import update\n",
    "import os\n",
    "import tempfile\n",
    "from pathlib import Path\n",
    "import pexpect\n",
    "import subprocess\n",
    "import ast\n",
    "import git\n",
    "from git import Repo\n",
    "import re\n",
    "import time\n",
    "\n",
    "for i in range(1,2):\n",
    "    commit_id = dataset[i]['base_commit']\n",
    "    fail_to_passs = dataset[i]['FAIL_TO_PASS']\n",
    "    fail_to_passs = ast.literal_eval(fail_to_passs)\n",
    "    \n",
    "\n",
    "    fail_to_passs= {\n",
    "        re.sub(r'\\s*\\(.*\\)', '', item): re.search(r'\\((.*?)\\)', item).group(1)\n",
    "        for item in fail_to_passs\n",
    "    }\n",
    "\n",
    "    version = dataset[i]['version']\n",
    "    pass_to_pass = dataset[i]['PASS_TO_PASS']\n",
    "    pass_to_pass = ast.literal_eval(pass_to_pass)\n",
    "\n",
    "\n",
    "    # pass_to_pass= {\n",
    "    #     re.sub(r'\\s*\\(.*\\)', '', item): re.search(r'\\((.*?)\\)', item).group(1)\n",
    "    #     for item in pass_to_pass\n",
    "    # }\n",
    "    \n",
    "    name = dataset[i]['instance_id'].split(\"__\")[0]\n",
    "    repo = Repo(name)\n",
    "    print(repo.git.reset('--hard', commit_id))\n",
    "    # repo.delete_remote(\"origin\")\n",
    "    # print(name)\n",
    "    # update(name, commit_id)\n",
    "    bash = bash_session.BashSession()\n",
    "    bash.run_command(f\"rm -rf testbed/{name}\")\n",
    "    print(\"deeleted\")\n",
    "    time.sleep(1)\n",
    "    bash.run_command(f\"cp -r {name} testbed\")\n",
    "    host_dir = os.path.abspath(\".\") + \"/testbed/\" + name\n",
    "    bash.logfile = open(f\"{name}_{version}_dockerbuild.log\", \"w\", encoding=\"utf-8\")\n",
    "    specs = MAP_REPO_VERSION_TO_SPECS_PY[dataset[i]['repo']][dataset[i]['version']]\n",
    "    container_dir = \"/testbed\"\n",
    "    version_exist_check = image_exists(f\"swe_py_{specs['python']}\")\n",
    "    print(\"version_exist_check:\", version_exist_check)\n",
    "    if not version_exist_check:\n",
    "        dockerfile_str_version = docker_build.generate_dockerfile_env(\n",
    "            python_version= specs[\"python\"],\n",
    "            \n",
    "        )    \n",
    "        tmpdir = tempfile.mkdtemp()\n",
    "        Path(f\"{tmpdir}/Dockerfile\").write_text(dockerfile_str_version)\n",
    "        print(f\"Generated Dockerfile for {name}_{specs['python']}\")\n",
    "        bash.run_command(f\"docker build -t swe_py_{specs['python']} {tmpdir}\")\n",
    "        # subprocess.run([\"docker\", \"build\", \"-t\", f\"swe_py_{specs['python']}\", tmpdir], check=True)\n",
    "    exist_check = image_exists(name + \"_\" + version)\n",
    "    # print(exist_check)\n",
    "    \n",
    "    # # exist_check = bash.run_command(f\"docker images | grep -q '^{name+'_'+version}' && echo yes || echo no\")\n",
    "    if not exist_check:\n",
    "    #     print(f\"Building image {name}_{version}...\")\n",
    "\n",
    "        if \"pre_install\" in specs:\n",
    "            pre_install_commands = \"\\n\".join(specs[\"pre_install\"])\n",
    "        else:\n",
    "            pre_install_commands = \"\"\n",
    "        dockerfile_str = docker_build.generate_dockerfile_packages(\n",
    "            python_version= specs[\"python\"],\n",
    "            pre_install= pre_install_commands,      \n",
    "        )\n",
    "        \n",
    "        tmpdir = tempfile.mkdtemp()\n",
    "        Path(f\"{tmpdir}/Dockerfile\").write_text(dockerfile_str)\n",
    "        print(f\"Generated Dockerfile for {name}_{version}\")\n",
    "        bash.run_command(f\"docker build -t {name}_{version} {tmpdir}\")\n",
    "    \n",
    "      \n",
    "    bash.run_command(f\"docker run --mount type=bind,src={host_dir},dst={container_dir} -it {name}_{version} bash\")\n",
    "    # bash.run_command(f\"conda activate py_{specs['python']}\")\n",
    "    bash.run_command(f\"source /opt/miniconda3/bin/activate py_{specs['python']}\")\n",
    "\n",
    "    bash.run_command(specs['install'])\n",
    "    if \"pip_packages\" in specs:\n",
    "        pip_packages = \" \".join(specs[\"pip_packages\"])\n",
    "        bash.run_command(f\"pip install {pip_packages}\")\n",
    "            \n",
    "    if \"install\" in specs:\n",
    "        bash.run_command(specs[\"install\"])\n",
    "    if \"packages\" in specs:\n",
    "        if not specs[\"packages\"].startswith(\"requiremen\"):\n",
    "            bash.run_command(f\"pip install {specs['packages']}\")\n",
    "        else:\n",
    "            if dataset[i]['repo'] in MAP_REPO_TO_REQS_PATHS:\n",
    "                requirements_path = MAP_REPO_TO_REQS_PATHS[dataset[i]['repo']]\n",
    "                requirements_path = \" \".join(requirements_path)\n",
    "            else:\n",
    "                requirements_path = specs['packages']\n",
    "            bash.run_command(f\"pip install -r {requirements_path}\")\n",
    "\n",
    "    for test_cm in fail_to_passs.values():\n",
    "        print(f\"Running test: {test_cm}\")\n",
    "        print(bash.run_command(f\"{specs['test_cmd']} {test_cm}\"))\n",
    "        \n",
    "    # for test_cm in pass_to_pass.values():\n",
    "    #     print(f\"Running test: {test_cm}\")\n",
    "    #     print(bash.run_command(f\"{specs['test_cmd']} {test_cm}\"))\n",
    "        \n",
    "    bash.close()\n",
    "        \n",
    "        \n",
    "    \n",
    "    \n",
    "    "
   ]
  },
  {
   "cell_type": "code",
   "execution_count": null,
   "metadata": {},
   "outputs": [],
   "source": []
  }
 ],
 "metadata": {
  "kernelspec": {
   "display_name": "agentless",
   "language": "python",
   "name": "python3"
  },
  "language_info": {
   "codemirror_mode": {
    "name": "ipython",
    "version": 3
   },
   "file_extension": ".py",
   "mimetype": "text/x-python",
   "name": "python",
   "nbconvert_exporter": "python",
   "pygments_lexer": "ipython3",
   "version": "3.11.11"
  }
 },
 "nbformat": 4,
 "nbformat_minor": 2
}
